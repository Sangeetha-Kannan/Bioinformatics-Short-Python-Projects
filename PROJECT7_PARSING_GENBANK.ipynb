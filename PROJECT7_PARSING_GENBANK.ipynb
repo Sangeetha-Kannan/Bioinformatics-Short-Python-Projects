{
 "cells": [
  {
   "cell_type": "markdown",
   "id": "141a5e12",
   "metadata": {},
   "source": [
    "# Parsing GenBank Files and Fetching Protein Data"
   ]
  },
  {
   "cell_type": "markdown",
   "id": "34e0cafb",
   "metadata": {},
   "source": [
    "**1. Download GenBank File:**\n",
    "Go to the NCBI website or any other database that provides GenBank files.\n",
    "\n",
    "Search for the organism or gene of interest.\n",
    "\n",
    "Download the GenBank file (.gb or .gbk) to your local machine."
   ]
  },
  {
   "cell_type": "markdown",
   "id": "661fe4e1",
   "metadata": {},
   "source": [
    "**2. Save the File Locally:**\n",
    "\n",
    "Save the downloaded file with an appropriate name, such as example.gb."
   ]
  },
  {
   "cell_type": "markdown",
   "id": "e5968b71",
   "metadata": {},
   "source": [
    "Alternatively, you can download GenBank files directly from NCBI using Biopython. Biopython provides modules to access NCBI's Entrez system, which allows you to download sequences programmaticall"
   ]
  },
  {
   "cell_type": "code",
   "execution_count": 8,
   "id": "34d5a1aa",
   "metadata": {},
   "outputs": [],
   "source": [
    "from Bio import Entrez, SeqIO"
   ]
  },
  {
   "cell_type": "code",
   "execution_count": 9,
   "id": "7fbdf00d",
   "metadata": {},
   "outputs": [],
   "source": [
    "# Set email for NCBI Entrez\n",
    "Entrez.email = \"k26sangeetha@gmail.com\""
   ]
  },
  {
   "cell_type": "code",
   "execution_count": 10,
   "id": "dbfb56ec",
   "metadata": {},
   "outputs": [],
   "source": [
    "# Function to download a GenBank file\n",
    "def download_genbank(accession_id, filename):\n",
    "    with Entrez.efetch(db=\"nucleotide\", id=accession_id, rettype=\"gb\", retmode=\"text\") as handle:\n",
    "        with open(filename, \"w\") as out_handle:\n",
    "            out_handle.write(handle.read())"
   ]
  },
  {
   "cell_type": "markdown",
   "id": "4704976c",
   "metadata": {},
   "source": [
    "**3. Parse the GenBank File Using Biopython:**\n",
    "\n",
    "Use the Python script provided to parse the GenBank file and extract protein data."
   ]
  },
  {
   "cell_type": "code",
   "execution_count": 1,
   "id": "33e06ba3",
   "metadata": {},
   "outputs": [],
   "source": [
    "from Bio import SeqIO"
   ]
  },
  {
   "cell_type": "markdown",
   "id": "37d7ee3c",
   "metadata": {},
   "source": [
    "### Function to Parse GenBank File"
   ]
  },
  {
   "cell_type": "code",
   "execution_count": 2,
   "id": "2f62dba7",
   "metadata": {},
   "outputs": [],
   "source": [
    "# Function to parse a GenBank file and extract protein data\n",
    "def parse_genbank(file_path):\n",
    "    proteins = []\n",
    "    for record in SeqIO.parse(file_path, \"genbank\"):\n",
    "        for feature in record.features:\n",
    "            if feature.type == \"CDS\" and \"translation\" in feature.qualifiers:\n",
    "                protein_data = {\n",
    "                    \"id\": record.id,\n",
    "                    \"description\": record.description,\n",
    "                    \"protein_id\": feature.qualifiers.get(\"protein_id\", [\"\"])[0],\n",
    "                    \"protein_sequence\": feature.qualifiers[\"translation\"][0],\n",
    "                    \"gene\": feature.qualifiers.get(\"gene\", [\"\"])[0],\n",
    "                    \"product\": feature.qualifiers.get(\"product\", [\"\"])[0]\n",
    "                }\n",
    "                proteins.append(protein_data)\n",
    "    return proteins"
   ]
  },
  {
   "cell_type": "markdown",
   "id": "fe967ca7",
   "metadata": {},
   "source": [
    "### Function to Print Protein Data"
   ]
  },
  {
   "cell_type": "code",
   "execution_count": 3,
   "id": "8e5036af",
   "metadata": {},
   "outputs": [],
   "source": [
    "# Function to print extracted protein data\n",
    "def print_protein_data(proteins):\n",
    "    for protein in proteins:\n",
    "        print(f\"Record ID: {protein['id']}\")\n",
    "        print(f\"Description: {protein['description']}\")\n",
    "        print(f\"Protein ID: {protein['protein_id']}\")\n",
    "        print(f\"Gene: {protein['gene']}\")\n",
    "        print(f\"Product: {protein['product']}\")\n",
    "        print(f\"Protein Sequence: {protein['protein_sequence']}\\n\")"
   ]
  },
  {
   "cell_type": "code",
   "execution_count": 7,
   "id": "e9e9246a",
   "metadata": {},
   "outputs": [
    {
     "name": "stdout",
     "output_type": "stream",
     "text": [
      "Record ID: U49845.1\n",
      "Description: Saccharomyces cerevisiae TCP1-beta gene, partial cds, and Axl2p (AXL2) and Rev7p (REV7) genes, complete cds\n",
      "Protein ID: AAA98665.1\n",
      "Gene: TCP1-beta\n",
      "Product: chaperonin\n",
      "Protein Sequence: MVKVYAPASSANMSVGFDVLGAAVTPVDGALLGDVVTVEAAETFSLNNLGQKVSRKGVVQVKAVNDKDWSAMSGF\n",
      "\n",
      "Record ID: U49845.1\n",
      "Description: Saccharomyces cerevisiae TCP1-beta gene, partial cds, and Axl2p (AXL2) and Rev7p (REV7) genes, complete cds\n",
      "Protein ID: AAA98666.1\n",
      "Gene: AXL2\n",
      "Product: Axl2p\n",
      "Protein Sequence: MYSDFHNMDATSTHGNATGVLHSAGIHVGLEIFQYLVHKNHIQQTFNLAM\n",
      "\n",
      "Record ID: U49845.1\n",
      "Description: Saccharomyces cerevisiae TCP1-beta gene, partial cds, and Axl2p (AXL2) and Rev7p (REV7) genes, complete cds\n",
      "Protein ID: AAA98667.1\n",
      "Gene: REV7\n",
      "Product: Rev7p\n",
      "Protein Sequence: MFTYPDFKILPSNLTHFSKNHPVFDWLQEDDSRRVRLIIVDDGE\n",
      "\n"
     ]
    }
   ],
   "source": [
    "# Example usage\n",
    "genbank_file = \"Example2.gb\"  # Replace with your GenBank file path\n",
    "\n",
    "# Parse the GenBank file\n",
    "proteins = parse_genbank(genbank_file)\n",
    "\n",
    "# Print the extracted protein data\n",
    "print_protein_data(proteins)"
   ]
  },
  {
   "cell_type": "markdown",
   "id": "0333ea43",
   "metadata": {},
   "source": [
    "### PARSING GENBANK FILE"
   ]
  },
  {
   "cell_type": "code",
   "execution_count": 12,
   "id": "40cfbd73",
   "metadata": {},
   "outputs": [],
   "source": [
    "# Example usage of using GenBank file you want to download\n",
    "accession_id = \"U49845\"  # Replace with the accession ID of the GenBank file you want to download\n",
    "filename = \"example.gb\""
   ]
  },
  {
   "cell_type": "code",
   "execution_count": 13,
   "id": "8613c3ac",
   "metadata": {},
   "outputs": [],
   "source": [
    "# Download the GenBank file\n",
    "download_genbank(accession_id, filename)"
   ]
  },
  {
   "cell_type": "code",
   "execution_count": 14,
   "id": "f7d88126",
   "metadata": {},
   "outputs": [],
   "source": [
    "# Parse the GenBank file\n",
    "proteins = parse_genbank(filename)"
   ]
  },
  {
   "cell_type": "code",
   "execution_count": 15,
   "id": "64a93d08",
   "metadata": {},
   "outputs": [
    {
     "name": "stdout",
     "output_type": "stream",
     "text": [
      "Record ID: U49845.1\n",
      "Description: Saccharomyces cerevisiae TCP1-beta gene, partial cds; and Axl2p (AXL2) and Rev7p (REV7) genes, complete cds\n",
      "Protein ID: AAA98665.1\n",
      "Gene: \n",
      "Product: TCP1-beta\n",
      "Protein Sequence: SSIYNGISTSGLDLNNGTIADMRQLGIVESYKLKRAVVSSASEAAEVLLRVDNIIRARPRTANRQHM\n",
      "\n",
      "Record ID: U49845.1\n",
      "Description: Saccharomyces cerevisiae TCP1-beta gene, partial cds; and Axl2p (AXL2) and Rev7p (REV7) genes, complete cds\n",
      "Protein ID: AAA98666.1\n",
      "Gene: AXL2\n",
      "Product: Axl2p\n",
      "Protein Sequence: MTQLQISLLLTATISLLHLVVATPYEAYPIGKQYPPVARVNESFTFQISNDTYKSSVDKTAQITYNCFDLPSWLSFDSSSRTFSGEPSSDLLSDANTTLYFNVILEGTDSADSTSLNNTYQFVVTNRPSISLSSDFNLLALLKNYGYTNGKNALKLDPNEVFNVTFDRSMFTNEESIVSYYGRSQLYNAPLPNWLFFDSGELKFTGTAPVINSAIAPETSYSFVIIATDIEGFSAVEVEFELVIGAHQLTTSIQNSLIINVTDTGNVSYDLPLNYVYLDDDPISSDKLGSINLLDAPDWVALDNATISGSVPDELLGKNSNPANFSVSIYDTYGDVIYFNFEVVSTTDLFAISSLPNINATRGEWFSYYFLPSQFTDYVNTNVSLEFTNSSQDHDWVKFQSSNLTLAGEVPKNFDKLSLGLKANQGSQSQELYFNIIGMDSKITHSNHSANATSTRSSHHSTSTSSYTSSTYTAKISSTSAAATSSAPAALPAANKTSSHNKKAVAIACGVAIPLGVILVALICFLIFWRRRRENPDDENLPHAISGPDLNNPANKPNQENATPLNNPFDDDASSYDDTSIARRLAALNTLKLDNHSATESDISSVDEKRDSLSGMNTYNDQFQSQSKEELLAKPPVQPPESPFFDPQNRSSSVYMDSEPAVNKSWRYTGNLSPVSDIVRDSYGSQKTVDTEKLFDLEAPEKEKRTSRDVTMSSLDPWNSNISPSPVRKSVTPSPYNVTKHRNRHLQNIQDSQSGKNGITPTTMSTSSSDDFVPVKDGENFCWVHSMEPDRRPSKKRLVDFSNKSNVNVGQVKDIHGRIPEML\n",
      "\n",
      "Record ID: U49845.1\n",
      "Description: Saccharomyces cerevisiae TCP1-beta gene, partial cds; and Axl2p (AXL2) and Rev7p (REV7) genes, complete cds\n",
      "Protein ID: AAA98667.1\n",
      "Gene: REV7\n",
      "Product: Rev7p\n",
      "Protein Sequence: MNRWVEKWLRVYLKCYINLILFYRNVYPPQSFDYTTYQSFNLPQFVPINRHPALIDYIEELILDVLSKLTHVYRFSICIINKKNDLCIEKYVLDFSELQHVDKDDQIITETEVFDEFRSSLNSLIMHLEKLPKVNDDTITFEAVINAIELELGHKLDRNRRVDSLEEKAEIERDSNWVKCQEDENLPDNNGFQPPKIKLTSLVGSDVGPLIIHQFSEKLISGDDKILNGVYSQYEEGESIFGSLF\n",
      "\n"
     ]
    }
   ],
   "source": [
    "# Print the extracted protein data\n",
    "print_protein_data(proteins)"
   ]
  }
 ],
 "metadata": {
  "kernelspec": {
   "display_name": "Python 3 (ipykernel)",
   "language": "python",
   "name": "python3"
  },
  "language_info": {
   "codemirror_mode": {
    "name": "ipython",
    "version": 3
   },
   "file_extension": ".py",
   "mimetype": "text/x-python",
   "name": "python",
   "nbconvert_exporter": "python",
   "pygments_lexer": "ipython3",
   "version": "3.10.9"
  }
 },
 "nbformat": 4,
 "nbformat_minor": 5
}
