{
 "cells": [
  {
   "cell_type": "markdown",
   "id": "5eddc548",
   "metadata": {},
   "source": [
    "# To Identify specific motifs (short sequences of interest) within DNA sequences"
   ]
  },
  {
   "cell_type": "markdown",
   "id": "2c37fb45",
   "metadata": {},
   "source": [
    "**Steps to Perform Motif Finding** \n",
    "1. Define a Function to Find Motifs in a Sequence\n",
    "2. Parse the FASTA File and Use the Function\n",
    "3. Print the Results"
   ]
  },
  {
   "cell_type": "markdown",
   "id": "6cd4e5e8",
   "metadata": {},
   "source": [
    "### Step 1: Define a Function to Find Motifs in a Sequence"
   ]
  },
  {
   "cell_type": "markdown",
   "id": "9923792e",
   "metadata": {},
   "source": [
    "We'll create a function that takes a DNA sequence and a motif as input and returns the positions where the motif is found"
   ]
  },
  {
   "cell_type": "markdown",
   "id": "1bbd3f24",
   "metadata": {},
   "source": [
    "**1. Imports**"
   ]
  },
  {
   "cell_type": "code",
   "execution_count": 1,
   "id": "932f28f4",
   "metadata": {},
   "outputs": [],
   "source": [
    "from Bio import SeqIO\n",
    "import re"
   ]
  },
  {
   "cell_type": "markdown",
   "id": "3da6faf6",
   "metadata": {},
   "source": [
    "**2. Find Motifs Function:**"
   ]
  },
  {
   "cell_type": "markdown",
   "id": "7ad7a51a",
   "metadata": {},
   "source": [
    "**re.finditer(motif, str(sequence)):** Finds all occurrences of the motif in the sequence and returns an iterator\n",
    "\n",
    "**[m.start() for m in re.finditer(motif, str(sequence))]:** Extracts the start positions of each motif occurrence"
   ]
  },
  {
   "cell_type": "code",
   "execution_count": 2,
   "id": "e2fda76e",
   "metadata": {},
   "outputs": [],
   "source": [
    "def find_motifs(sequence, motif):\n",
    "    return [m.start() for m in re.finditer(motif, str(sequence))]"
   ]
  },
  {
   "cell_type": "markdown",
   "id": "527e9e59",
   "metadata": {},
   "source": [
    "### Step 2: Parse the FASTA File and Use the Function"
   ]
  },
  {
   "cell_type": "markdown",
   "id": "4656e5b3",
   "metadata": {},
   "source": [
    "Parse the FASTA file, find motifs in each sequence, and print the results."
   ]
  },
  {
   "cell_type": "code",
   "execution_count": 3,
   "id": "bf2a52a1",
   "metadata": {},
   "outputs": [],
   "source": [
    "# Function to parse a FASTA file and find motifs\n",
    "def parse_fasta_find_motifs(file_path, motif):\n",
    "    for record in SeqIO.parse(file_path, \"fasta\"):\n",
    "        positions = find_motifs(record.seq, motif)\n",
    "        print(f\"ID: {record.id}\")\n",
    "        print(f\"Motif '{motif}' found at positions: {positions}\\n\")"
   ]
  },
  {
   "cell_type": "code",
   "execution_count": 4,
   "id": "75e43437",
   "metadata": {},
   "outputs": [],
   "source": [
    "fasta_file = \"Example1.fasta\""
   ]
  },
  {
   "cell_type": "code",
   "execution_count": 6,
   "id": "4f3079ab",
   "metadata": {},
   "outputs": [
    {
     "name": "stdout",
     "output_type": "stream",
     "text": [
      "ID: sequence1\n",
      "Motif 'TTT' found at positions: []\n",
      "\n",
      "ID: sequence2\n",
      "Motif 'TTT' found at positions: [2, 27]\n",
      "\n",
      "ID: sequence3\n",
      "Motif 'TTT' found at positions: [14]\n",
      "\n"
     ]
    }
   ],
   "source": [
    "motif = \"TTT\"  # Replace with your motif of interest\n",
    "if fasta_file:\n",
    "    parse_fasta_find_motifs(fasta_file, motif)\n",
    "else: \n",
    "    print(\"No data fetched\")"
   ]
  },
  {
   "cell_type": "markdown",
   "id": "f6666ab6",
   "metadata": {},
   "source": [
    "### FIND MOTIF FROM THE FASTA SEQUENCE FETCHED FROM THE DATABASE"
   ]
  },
  {
   "cell_type": "code",
   "execution_count": 7,
   "id": "229f9da6",
   "metadata": {},
   "outputs": [],
   "source": [
    "from Bio import Entrez"
   ]
  },
  {
   "cell_type": "code",
   "execution_count": 8,
   "id": "e6fde1be",
   "metadata": {},
   "outputs": [],
   "source": [
    "from io import StringIO"
   ]
  },
  {
   "cell_type": "code",
   "execution_count": 9,
   "id": "bd085206",
   "metadata": {},
   "outputs": [],
   "source": [
    "# Set email for NCBI Entrez\n",
    "Entrez.email = \"k26sangeetha@gmail.com\"  # Replace with your email"
   ]
  },
  {
   "cell_type": "code",
   "execution_count": 10,
   "id": "fb983b4d",
   "metadata": {},
   "outputs": [],
   "source": [
    "# Function to fetch FASTA data from NCBI\n",
    "def fetch_fasta_from_ncbi(query, database=\"nucleotide\"):\n",
    "    handle = Entrez.esearch(db=database, term=query, retmax=1)\n",
    "    record = Entrez.read(handle)\n",
    "    handle.close()\n",
    "    if record[\"IdList\"]:\n",
    "        seq_id = record[\"IdList\"][0]\n",
    "        handle = Entrez.efetch(db=database, id=seq_id, rettype=\"fasta\", retmode=\"text\")\n",
    "        fasta_data = handle.read()\n",
    "        handle.close()\n",
    "        return fasta_data\n",
    "    else:\n",
    "        return None"
   ]
  },
  {
   "cell_type": "code",
   "execution_count": 11,
   "id": "0b0eaa9f",
   "metadata": {},
   "outputs": [
    {
     "name": "stdout",
     "output_type": "stream",
     "text": [
      ">PP914118.1 Taenia solium isolate B cytochrome c oxidase subunit I (COX1) gene, partial cds; mitochondrial\n",
      "TAGATTTTTTAATGTTTTCTTTACATTTAGCTGGTGTATCAAGTATTTTTAGTTCTATTAATTTTATATG\n",
      "TACATTATATAGAGTTTTTATGACTAATATATTTTCTCGTACATCTATAGTGTTATGATCTTATTTATTT\n",
      "ACATCTATCTTGTTATTGGTTACTTTACCTGTTTTGGCAGCCGCTGTTACTATGCTTCTATTTGATCGTA\n",
      "AATTTAGTTCTGCGTTTTTTGATCCGTTAGGAGGTGGTGATCCTGTTTTATTTCAACATATGTTTTGATT\n",
      "TTTTGGTCATCCTGAGGTTTATGTGTTAATTCTTCCGGGGTTTGGTATAATTAGTCATATATGTTTGAGT\n",
      "ATAAGTATGTGTTCTGATGCTTTTGGCTTTTATGGGTTATTGTTTGCTATGTTTTCAATAGTATGTTTAG\n",
      "GAAGAAGTGTATGAGGGCATCATATGTTTACGGTTGGGTTAGATGTTAAGACGGCTGTATTTTTTAGTTC\n",
      "TGTTACTATGATAATTGGAGTGCCTACGGGGATTAAGGTTTTTACTTGGCTTTATATGCTTTTAAAATCT\n",
      "CGTGTTAATAAGAGTGATCCGGTTTTATGATGAATAATTTCGTTTATAGTATTGTTTACATTTGGTGGTG\n",
      "TAACTGGTATTATTCTATCTGCTTGTGTATTAGATAAAGTTCTTCATGATACTTGGTTTGTTGTTGCTCA\n",
      "TTTTCATT\n",
      "\n",
      "\n"
     ]
    }
   ],
   "source": [
    "query = \"Homo sapiens COX1\"\n",
    "fasta_data = fetch_fasta_from_ncbi(query)\n",
    "print(fasta_data)"
   ]
  },
  {
   "cell_type": "code",
   "execution_count": 15,
   "id": "c1dfbaba",
   "metadata": {},
   "outputs": [],
   "source": [
    "# Function to parse a FASTA file and find motifs\n",
    "def parse_fasta_find_motifs_db(fasta_string, motif):\n",
    "    fasta_io = StringIO(fasta_string)\n",
    "    for record in SeqIO.parse(fasta_io, \"fasta\"):\n",
    "        positions = find_motifs(record.seq, motif)\n",
    "        print(f\"ID: {record.id}\")\n",
    "        print(f\"Motif '{motif}' found at positions: {positions}\\n\")"
   ]
  },
  {
   "cell_type": "code",
   "execution_count": 16,
   "id": "8c134221",
   "metadata": {},
   "outputs": [
    {
     "name": "stdout",
     "output_type": "stream",
     "text": [
      "ID: PP914118.1\n",
      "Motif 'ATG' found at positions: [11, 67, 89, 124, 191, 269, 300, 340, 356, 366, 381, 398, 412, 430, 443, 462, 497, 545, 586, 589, 675]\n",
      "\n"
     ]
    }
   ],
   "source": [
    "# Example usage\n",
    "motif = \"ATG\"\n",
    "if fasta_data:\n",
    "    parse_fasta_find_motifs_db(fasta_data, motif)\n",
    "else:\n",
    "    print(\"No data fetched.\")"
   ]
  }
 ],
 "metadata": {
  "kernelspec": {
   "display_name": "Python 3 (ipykernel)",
   "language": "python",
   "name": "python3"
  },
  "language_info": {
   "codemirror_mode": {
    "name": "ipython",
    "version": 3
   },
   "file_extension": ".py",
   "mimetype": "text/x-python",
   "name": "python",
   "nbconvert_exporter": "python",
   "pygments_lexer": "ipython3",
   "version": "3.10.9"
  }
 },
 "nbformat": 4,
 "nbformat_minor": 5
}
