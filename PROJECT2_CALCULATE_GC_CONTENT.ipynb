{
 "cells": [
  {
   "cell_type": "markdown",
   "id": "a464c8c3",
   "metadata": {},
   "source": [
    "# PROJECT 2: GC Content Calculation "
   ]
  },
  {
   "cell_type": "markdown",
   "id": "ec4d9d79",
   "metadata": {},
   "source": [
    "Let's start with understanding GC content!\n",
    "\n",
    "**What is GC Content?**\n",
    "\n",
    "GC content is the percentage of nucleotides in a DNA sequence that are either guanine (G) or cytosine (C). It is a measure of the proportion of these two bases in a given DNA or RNA sequence. The formula for calculating GC content is:"
   ]
  },
  {
   "cell_type": "markdown",
   "id": "092028b1",
   "metadata": {},
   "source": [
    "GC Content(%)=(Number of G’s and C’s/Total number of nucleotides) ×100"
   ]
  },
  {
   "cell_type": "markdown",
   "id": "40e81369",
   "metadata": {},
   "source": [
    "**Why is GC Content Important?**\n",
    "\n",
    "**1. Stability of DNA:** Higher GC content generally increases the stability of the DNA molecule because G-C pairs form three hydrogen bonds (compared to two for A-T pairs), making the DNA more resistant to denaturation.\n",
    "\n",
    "**2. Genomic Characterization:** Different organisms have different typical GC contents. This can be used to identify and characterize species or strains.\n",
    "\n",
    "**3. PCR Design:** GC content is crucial for designing primers in PCR, as it affects the melting temperature of the primers.\n",
    "\n",
    "**4. Gene Prediction:** GC content can help in gene prediction and finding coding regions, as coding regions often have a higher GC content compared to non-coding regions."
   ]
  },
  {
   "cell_type": "markdown",
   "id": "7a76dc32",
   "metadata": {},
   "source": [
    "**Calculating GC Content in Python**\n",
    "\n",
    "Let's use the fasta_data fetched from the database previously to calculate the GC content. Here's a step-by-step explanation:\n",
    "\n",
    "**1. Define a Function to Calculate GC Content:** We will create a function that takes a sequence as input and returns its GC content.\n",
    "\n",
    "**2. Parse the FASTA Data:** We will modify our existing code to parse the FASTA data and use the GC content function to calculate and print the GC content for each sequence."
   ]
  },
  {
   "cell_type": "markdown",
   "id": "a0fae4bd",
   "metadata": {},
   "source": [
    "## STEP 1. Import Libraries"
   ]
  },
  {
   "cell_type": "code",
   "execution_count": 2,
   "id": "67360872",
   "metadata": {},
   "outputs": [],
   "source": [
    "import Bio"
   ]
  },
  {
   "cell_type": "code",
   "execution_count": 10,
   "id": "7bdee569",
   "metadata": {},
   "outputs": [],
   "source": [
    "from Bio import SeqIO\n",
    "from Bio import Entrez\n",
    "from io import StringIO"
   ]
  },
  {
   "cell_type": "markdown",
   "id": "5be98850",
   "metadata": {},
   "source": [
    "### STEP 2: FETCH THE FASTA DATA FROM THE DATABASE"
   ]
  },
  {
   "cell_type": "code",
   "execution_count": 6,
   "id": "82363aa8",
   "metadata": {},
   "outputs": [],
   "source": [
    "# Set email for NCBI Entrez\n",
    "Entrez.email = \"k26sangeetha@gmail.com\"  # Replace with your email"
   ]
  },
  {
   "cell_type": "code",
   "execution_count": 7,
   "id": "2d6c2cfe",
   "metadata": {},
   "outputs": [],
   "source": [
    "# Function to fetch FASTA data from NCBI\n",
    "def fetch_fasta_from_ncbi(query, database=\"nucleotide\"):\n",
    "    handle = Entrez.esearch(db=database, term=query, retmax=1)\n",
    "    record = Entrez.read(handle)\n",
    "    handle.close()\n",
    "    if record[\"IdList\"]:\n",
    "        seq_id = record[\"IdList\"][0]\n",
    "        handle = Entrez.efetch(db=database, id=seq_id, rettype=\"fasta\", retmode=\"text\")\n",
    "        fasta_data = handle.read()\n",
    "        handle.close()\n",
    "        return fasta_data\n",
    "    else:\n",
    "        return None"
   ]
  },
  {
   "cell_type": "code",
   "execution_count": 8,
   "id": "6c7b2b35",
   "metadata": {},
   "outputs": [
    {
     "name": "stdout",
     "output_type": "stream",
     "text": [
      ">PP914118.1 Taenia solium isolate B cytochrome c oxidase subunit I (COX1) gene, partial cds; mitochondrial\n",
      "TAGATTTTTTAATGTTTTCTTTACATTTAGCTGGTGTATCAAGTATTTTTAGTTCTATTAATTTTATATG\n",
      "TACATTATATAGAGTTTTTATGACTAATATATTTTCTCGTACATCTATAGTGTTATGATCTTATTTATTT\n",
      "ACATCTATCTTGTTATTGGTTACTTTACCTGTTTTGGCAGCCGCTGTTACTATGCTTCTATTTGATCGTA\n",
      "AATTTAGTTCTGCGTTTTTTGATCCGTTAGGAGGTGGTGATCCTGTTTTATTTCAACATATGTTTTGATT\n",
      "TTTTGGTCATCCTGAGGTTTATGTGTTAATTCTTCCGGGGTTTGGTATAATTAGTCATATATGTTTGAGT\n",
      "ATAAGTATGTGTTCTGATGCTTTTGGCTTTTATGGGTTATTGTTTGCTATGTTTTCAATAGTATGTTTAG\n",
      "GAAGAAGTGTATGAGGGCATCATATGTTTACGGTTGGGTTAGATGTTAAGACGGCTGTATTTTTTAGTTC\n",
      "TGTTACTATGATAATTGGAGTGCCTACGGGGATTAAGGTTTTTACTTGGCTTTATATGCTTTTAAAATCT\n",
      "CGTGTTAATAAGAGTGATCCGGTTTTATGATGAATAATTTCGTTTATAGTATTGTTTACATTTGGTGGTG\n",
      "TAACTGGTATTATTCTATCTGCTTGTGTATTAGATAAAGTTCTTCATGATACTTGGTTTGTTGTTGCTCA\n",
      "TTTTCATT\n",
      "\n",
      "\n"
     ]
    }
   ],
   "source": [
    "# Example usage\n",
    "query = \"Homo sapiens COX1\" \n",
    "fasta_data = fetch_fasta_from_ncbi(query)\n",
    "print(fasta_data)"
   ]
  },
  {
   "cell_type": "markdown",
   "id": "7939f63a",
   "metadata": {},
   "source": [
    "**Function to Calculate GC Content**"
   ]
  },
  {
   "cell_type": "code",
   "execution_count": 1,
   "id": "f07e68cd",
   "metadata": {},
   "outputs": [],
   "source": [
    "# Function to calculate GC content\n",
    "    # sequence.count(\"G\"): Counts the number of G nucleotides in the sequence\n",
    "    # sequence.count(\"C\"): Counts the number of C nucleotides in the sequence\n",
    "    # gc_count / len(sequence): Calculates the proportion of G and C nucleotides\n",
    "    # * 100: Converts the proportion to a percentage\n",
    "def calculate_gc_content(sequence):\n",
    "    gc_count = sequence.count(\"G\") + sequence.count(\"C\")\n",
    "    return (gc_count / len(sequence)) * 100"
   ]
  },
  {
   "cell_type": "markdown",
   "id": "e3395461",
   "metadata": {},
   "source": [
    "The function **calculate_gc_content** takes a DNA sequence as input and returns the GC content as a percentage."
   ]
  },
  {
   "cell_type": "code",
   "execution_count": 4,
   "id": "bc26a545",
   "metadata": {},
   "outputs": [],
   "source": [
    "# Function to parse a FASTA string and calculate GC content\n",
    "    # StringIO: Converts the FASTA string into a file-like object so it can be parsed by SeqIO\n",
    "    # SeqIO.parse: Parses the FASTA data\n",
    "    # calculate_gc_content: Calls the function to calculate GC content for each sequence\n",
    "def parse_fasta_gc_content(fasta_string):\n",
    "    fasta_io = StringIO(fasta_string)\n",
    "    for record in SeqIO.parse(fasta_io, \"fasta\"):\n",
    "        gc_content = calculate_gc_content(record.seq)\n",
    "        print(f\"ID: {record.id}\")\n",
    "        print(f\"GC Content: {gc_content:.2f}%\\n\")"
   ]
  },
  {
   "cell_type": "code",
   "execution_count": 11,
   "id": "0bbab30e",
   "metadata": {},
   "outputs": [
    {
     "name": "stdout",
     "output_type": "stream",
     "text": [
      "ID: PP914118.1\n",
      "GC Content: 30.65%\n",
      "\n"
     ]
    }
   ],
   "source": [
    "# Example usage\n",
    "if fasta_data:\n",
    "    parse_fasta_gc_content(fasta_data)\n",
    "else:\n",
    "    print(\"No data fetched.\")"
   ]
  },
  {
   "cell_type": "markdown",
   "id": "a9afeaf7",
   "metadata": {},
   "source": [
    "**Let's try to find the GC content for the fasta file present Locally**"
   ]
  },
  {
   "cell_type": "markdown",
   "id": "b868ef51",
   "metadata": {},
   "source": [
    "There will be a change in the function which will be the file_path and not the FASTA data itself"
   ]
  },
  {
   "cell_type": "code",
   "execution_count": 12,
   "id": "9b8c25ca",
   "metadata": {},
   "outputs": [],
   "source": [
    "# Function to parse a FASTA file and calculate GC content\n",
    "def parse_fasta_gc_content(file_path):\n",
    "    for record in SeqIO.parse(file_path, \"fasta\"):\n",
    "        gc_content = calculate_gc_content(record.seq)\n",
    "        print(f\"ID: {record.id}\")\n",
    "        print(f\"GC Content: {gc_content:.2f}%\\n\")"
   ]
  },
  {
   "cell_type": "code",
   "execution_count": 13,
   "id": "d3359d22",
   "metadata": {},
   "outputs": [],
   "source": [
    "fasta_file = \"Example1.fasta\""
   ]
  },
  {
   "cell_type": "code",
   "execution_count": 14,
   "id": "168c70a0",
   "metadata": {},
   "outputs": [
    {
     "name": "stdout",
     "output_type": "stream",
     "text": [
      "ID: sequence1\n",
      "GC Content: 57.69%\n",
      "\n",
      "ID: sequence2\n",
      "GC Content: 41.94%\n",
      "\n",
      "ID: sequence3\n",
      "GC Content: 42.55%\n",
      "\n"
     ]
    }
   ],
   "source": [
    "if fasta_file:\n",
    "    parse_fasta_gc_content(fasta_file)\n",
    "else: \n",
    "    print (\"No data fetched\")"
   ]
  }
 ],
 "metadata": {
  "kernelspec": {
   "display_name": "Python 3 (ipykernel)",
   "language": "python",
   "name": "python3"
  },
  "language_info": {
   "codemirror_mode": {
    "name": "ipython",
    "version": 3
   },
   "file_extension": ".py",
   "mimetype": "text/x-python",
   "name": "python",
   "nbconvert_exporter": "python",
   "pygments_lexer": "ipython3",
   "version": "3.10.9"
  }
 },
 "nbformat": 4,
 "nbformat_minor": 5
}
