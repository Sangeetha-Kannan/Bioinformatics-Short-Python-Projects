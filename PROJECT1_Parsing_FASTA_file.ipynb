{
 "cells": [
  {
   "cell_type": "markdown",
   "id": "f447c056",
   "metadata": {},
   "source": [
    "# PROJECT 1: Parsing a FASTA file"
   ]
  },
  {
   "cell_type": "markdown",
   "id": "a3134e66",
   "metadata": {},
   "source": [
    "This program demonstrates how to parse a FASTA file using Biopython and print the sequence IDs and their lengths. FASTA is a common file format used to represent nucleotide or protein sequences."
   ]
  },
  {
   "cell_type": "markdown",
   "id": "3d5c118d",
   "metadata": {},
   "source": [
    "## Objectives\n",
    "1. Parse a local FASTA file and extract sequence information.\n",
    "2. Fetch and parse FASTA data from an online database."
   ]
  },
  {
   "cell_type": "markdown",
   "id": "01a5a159",
   "metadata": {},
   "source": [
    "### STEP1: Installing and Importing Libraries "
   ]
  },
  {
   "cell_type": "markdown",
   "id": "f03f6d56",
   "metadata": {},
   "source": [
    "**Biopython** is a collection of tools and libraries for computational biology and bioinformatics. It provides functionalities to handle biological data, such as sequences, structures, and annotations."
   ]
  },
  {
   "cell_type": "code",
   "execution_count": 3,
   "id": "06e4c534",
   "metadata": {},
   "outputs": [
    {
     "name": "stdout",
     "output_type": "stream",
     "text": [
      "Collecting biopython\n",
      "  Downloading biopython-1.83-cp310-cp310-win_amd64.whl (2.7 MB)\n",
      "     ---------------------------------------- 2.7/2.7 MB 4.7 MB/s eta 0:00:00\n",
      "Requirement already satisfied: numpy in c:\\users\\sangeetha\\anaconda3\\lib\\site-packages (from biopython) (1.23.5)\n",
      "Installing collected packages: biopython\n",
      "Successfully installed biopython-1.83\n"
     ]
    }
   ],
   "source": [
    "# Installing Biopython library\n",
    "!pip install biopython"
   ]
  },
  {
   "cell_type": "markdown",
   "id": "fcd658c6",
   "metadata": {},
   "source": [
    "The **SeqIO** module in Biopython is used for reading and writing sequence file formats. It supports a variety of formats, including FASTA, GenBank, and others. The **Entrez** module in Biopython provides access to NCBI's Entrez databases. It allows you to search and fetch data programmatically."
   ]
  },
  {
   "cell_type": "code",
   "execution_count": 4,
   "id": "f1a7da79",
   "metadata": {},
   "outputs": [],
   "source": [
    "# Importing necessary modules from Biopython\n",
    "from Bio import SeqIO\n",
    "from Bio import Entrez"
   ]
  },
  {
   "cell_type": "code",
   "execution_count": 5,
   "id": "3df79b47",
   "metadata": {},
   "outputs": [
    {
     "name": "stdout",
     "output_type": "stream",
     "text": [
      "Biopython version: 1.83\n"
     ]
    }
   ],
   "source": [
    "# Printing the Biopython version to verify installation\n",
    "import Bio\n",
    "print(f\"Biopython version: {Bio.__version__}\")"
   ]
  },
  {
   "cell_type": "markdown",
   "id": "b3afaa5c",
   "metadata": {},
   "source": [
    "### Objective 1: Parsing a Local FASTA File"
   ]
  },
  {
   "cell_type": "markdown",
   "id": "30069eca",
   "metadata": {},
   "source": [
    "In bioinformatics, parsing a FASTA file helps us pick out sequence IDs and sequences so we can analyze them."
   ]
  },
  {
   "cell_type": "markdown",
   "id": "433f7eb9",
   "metadata": {},
   "source": [
    "The **\"parse_fasta\"** function takes a file path as input and parses the fasta file.\n",
    "We then use a loop to iterate through each record in the faste file.\n",
    "For each record, the sequence ID and length is printed"
   ]
  },
  {
   "cell_type": "code",
   "execution_count": 11,
   "id": "8d3d2e08",
   "metadata": {},
   "outputs": [],
   "source": [
    "# parse_fasta is a function to parse FASTA file and print sequence IDs and lengths\n",
    "def parse_fasta(file_path):\n",
    "    for record in SeqIO.parse(file_path, \"fasta\"):\n",
    "        print(f\"ID: {record.id}\")\n",
    "        print(f\"Sequence: {record.seq}\")\n",
    "        print(f\"Length: {len(record.seq)}\\n\")"
   ]
  },
  {
   "cell_type": "code",
   "execution_count": 12,
   "id": "c66145fd",
   "metadata": {},
   "outputs": [
    {
     "name": "stdout",
     "output_type": "stream",
     "text": [
      "ID: seq1\n",
      "Sequence: ATGCGTACGTAGCTAGCTGAC\n",
      "Length: 21\n",
      "\n",
      "ID: seq2\n",
      "Sequence: CGTACGTAGCTAGCTGACGTAGCTAGC\n",
      "Length: 27\n",
      "\n"
     ]
    }
   ],
   "source": [
    "# Example usage\n",
    "fasta_file = \"Example1.fasta\"  # Replace with your FASTA file path\n",
    "parse_fasta(fasta_file)"
   ]
  },
  {
   "cell_type": "markdown",
   "id": "9d39b23e",
   "metadata": {},
   "source": [
    "### Objective 2: Fetch and parse FASTA data from an online database"
   ]
  },
  {
   "cell_type": "markdown",
   "id": "942c5a17",
   "metadata": {},
   "source": [
    "In bioinformatics, data often needs to be retrieved from large online databases. One commonly used database is NCBI (National Center for Biotechnology Information), which stores a vast amount of biological data. We'll use Biopython's Entrez module to fetch FASTA data from NCBI and then parse it to extract useful information."
   ]
  },
  {
   "cell_type": "markdown",
   "id": "c9773d14",
   "metadata": {},
   "source": [
    "Below are the steps to achieve this\n",
    "\n",
    "a) **Set Up Access to NCBI:** Before we can fetch data, we need to set up access to NCBI. NCBI requires you to provide an email address when using their API, so they can contact you if there's any issue with your queries\n",
    "\n",
    "b) **Perform a Search Query:** Entrez.esearch(): Performs a search in the specified database (\"nucleotide\" in this case) for the query (\"Homo sapiens COX1\").\n",
    "\n",
    "c) **Fetch the data:**  Use Entrez.efetch() to retrieve the sequence data in FASTA format\n",
    "\n",
    "d) **Parse data:** Convert the fetched data into a file-like object and use SeqIO.parse() to read and process the sequences."
   ]
  },
  {
   "cell_type": "markdown",
   "id": "d55fd1b5",
   "metadata": {},
   "source": [
    "#### i) Steps to fetch sequence data from NCBI's database using Entrez."
   ]
  },
  {
   "cell_type": "code",
   "execution_count": 13,
   "id": "5a03caa3",
   "metadata": {},
   "outputs": [],
   "source": [
    "# Set email for NCBI Entrez\n",
    "Entrez.email = \"k26sangeetha@gmail.com\"  # Replace with your email"
   ]
  },
  {
   "cell_type": "code",
   "execution_count": 14,
   "id": "db29c7e8",
   "metadata": {},
   "outputs": [],
   "source": [
    "# Function to fetch FASTA data from NCBI\n",
    "def fetch_fasta_from_ncbi(query, database=\"nucleotide\"):\n",
    "    handle = Entrez.esearch(db=database, term=query, retmax=1)\n",
    "    record = Entrez.read(handle)\n",
    "    handle.close()\n",
    "    if record[\"IdList\"]:\n",
    "        seq_id = record[\"IdList\"][0]\n",
    "        handle = Entrez.efetch(db=database, id=seq_id, rettype=\"fasta\", retmode=\"text\")\n",
    "        fasta_data = handle.read()\n",
    "        handle.close()\n",
    "        return fasta_data\n",
    "    else:\n",
    "        return None"
   ]
  },
  {
   "cell_type": "code",
   "execution_count": 16,
   "id": "92ad2cf1",
   "metadata": {},
   "outputs": [
    {
     "name": "stdout",
     "output_type": "stream",
     "text": [
      ">PP914118.1 Taenia solium isolate B cytochrome c oxidase subunit I (COX1) gene, partial cds; mitochondrial\n",
      "TAGATTTTTTAATGTTTTCTTTACATTTAGCTGGTGTATCAAGTATTTTTAGTTCTATTAATTTTATATG\n",
      "TACATTATATAGAGTTTTTATGACTAATATATTTTCTCGTACATCTATAGTGTTATGATCTTATTTATTT\n",
      "ACATCTATCTTGTTATTGGTTACTTTACCTGTTTTGGCAGCCGCTGTTACTATGCTTCTATTTGATCGTA\n",
      "AATTTAGTTCTGCGTTTTTTGATCCGTTAGGAGGTGGTGATCCTGTTTTATTTCAACATATGTTTTGATT\n",
      "TTTTGGTCATCCTGAGGTTTATGTGTTAATTCTTCCGGGGTTTGGTATAATTAGTCATATATGTTTGAGT\n",
      "ATAAGTATGTGTTCTGATGCTTTTGGCTTTTATGGGTTATTGTTTGCTATGTTTTCAATAGTATGTTTAG\n",
      "GAAGAAGTGTATGAGGGCATCATATGTTTACGGTTGGGTTAGATGTTAAGACGGCTGTATTTTTTAGTTC\n",
      "TGTTACTATGATAATTGGAGTGCCTACGGGGATTAAGGTTTTTACTTGGCTTTATATGCTTTTAAAATCT\n",
      "CGTGTTAATAAGAGTGATCCGGTTTTATGATGAATAATTTCGTTTATAGTATTGTTTACATTTGGTGGTG\n",
      "TAACTGGTATTATTCTATCTGCTTGTGTATTAGATAAAGTTCTTCATGATACTTGGTTTGTTGTTGCTCA\n",
      "TTTTCATT\n",
      "\n",
      "\n"
     ]
    }
   ],
   "source": [
    "# Example usage\n",
    "query = \"Homo sapiens COX1\" \n",
    "fasta_data = fetch_fasta_from_ncbi(query)\n",
    "print(fasta_data)"
   ]
  },
  {
   "cell_type": "markdown",
   "id": "ec9e2478",
   "metadata": {},
   "source": [
    "#### ii) Parsing the Fetched FASTA Data "
   ]
  },
  {
   "cell_type": "code",
   "execution_count": 17,
   "id": "bf8a043f",
   "metadata": {},
   "outputs": [],
   "source": [
    "from io import StringIO"
   ]
  },
  {
   "cell_type": "code",
   "execution_count": 18,
   "id": "8214313e",
   "metadata": {},
   "outputs": [],
   "source": [
    "# Function to parse a FASTA string and print sequence IDs and lengths\n",
    "def parse_fasta_string(fasta_string):\n",
    "    fasta_io = StringIO(fasta_string)\n",
    "    for record in SeqIO.parse(fasta_io, \"fasta\"):\n",
    "        print(f\"ID: {record.id}\")\n",
    "        print(f\"Length: {len(record.seq)}\\n\")"
   ]
  },
  {
   "cell_type": "code",
   "execution_count": 19,
   "id": "908db460",
   "metadata": {},
   "outputs": [
    {
     "name": "stdout",
     "output_type": "stream",
     "text": [
      "ID: PP914118.1\n",
      "Length: 708\n",
      "\n"
     ]
    }
   ],
   "source": [
    "if fasta_data:\n",
    "    parse_fasta_string(fasta_data)\n",
    "else:\n",
    "    print(\"No data fetched.\")"
   ]
  }
 ],
 "metadata": {
  "kernelspec": {
   "display_name": "Python 3 (ipykernel)",
   "language": "python",
   "name": "python3"
  },
  "language_info": {
   "codemirror_mode": {
    "name": "ipython",
    "version": 3
   },
   "file_extension": ".py",
   "mimetype": "text/x-python",
   "name": "python",
   "nbconvert_exporter": "python",
   "pygments_lexer": "ipython3",
   "version": "3.10.9"
  }
 },
 "nbformat": 4,
 "nbformat_minor": 5
}
