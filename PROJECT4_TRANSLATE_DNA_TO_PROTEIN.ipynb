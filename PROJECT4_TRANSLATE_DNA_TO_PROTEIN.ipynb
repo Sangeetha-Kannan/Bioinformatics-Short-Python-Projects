{
 "cells": [
  {
   "cell_type": "markdown",
   "id": "b8b6d4c3",
   "metadata": {},
   "source": [
    "# PROJECT 4: TRANSLATION OF DNA TO PROTEIN"
   ]
  },
  {
   "cell_type": "markdown",
   "id": "8233512a",
   "metadata": {},
   "source": [
    "Let's work on the next project, which involves translating DNA sequences to their corresponding protein sequences. This is an essential task in bioinformatics because proteins are the functional molecules in cells, and understanding their sequences can give insights into their functions."
   ]
  },
  {
   "cell_type": "markdown",
   "id": "d031e4fe",
   "metadata": {},
   "source": [
    "**Steps to Perform DNA to Protein Translation**\n",
    "1. Define a Function to Translate DNA to Protein\n",
    "2. Parse the FASTA File and Use the Function\n",
    "3. Print the Results"
   ]
  },
  {
   "cell_type": "code",
   "execution_count": 1,
   "id": "c487794d",
   "metadata": {},
   "outputs": [],
   "source": [
    "from Bio.Seq import Seq"
   ]
  },
  {
   "cell_type": "code",
   "execution_count": 2,
   "id": "47d93b8f",
   "metadata": {},
   "outputs": [],
   "source": [
    "from Bio import SeqIO"
   ]
  },
  {
   "cell_type": "markdown",
   "id": "7ee2a19c",
   "metadata": {},
   "source": [
    "### Function to Translate DNA to Protein"
   ]
  },
  {
   "cell_type": "markdown",
   "id": "560eb99b",
   "metadata": {},
   "source": [
    "**Seq(dna_sequence):** Converts the string of DNA sequence into a Biopython Seq object\n",
    "\n",
    "**dna_seq.translate():** Translates the DNA sequence into a protein sequence"
   ]
  },
  {
   "cell_type": "code",
   "execution_count": 3,
   "id": "45c717d6",
   "metadata": {},
   "outputs": [],
   "source": [
    "# Function to translate DNA sequence to protein\n",
    "def translate_dna_to_protein(dna_sequence):\n",
    "    dna_seq = Seq(dna_sequence)\n",
    "    return dna_seq.translate()"
   ]
  },
  {
   "cell_type": "markdown",
   "id": "16a3744d",
   "metadata": {},
   "source": [
    "### Parse the FASTA File and Use the Function"
   ]
  },
  {
   "cell_type": "code",
   "execution_count": 4,
   "id": "5c756dac",
   "metadata": {},
   "outputs": [],
   "source": [
    "# Function to parse a FASTA file and translate DNA sequences to protein\n",
    "def parse_fasta_translate(file_path):\n",
    "    for record in SeqIO.parse(file_path, \"fasta\"):\n",
    "        protein_seq = translate_dna_to_protein(record.seq)\n",
    "        print(f\"ID: {record.id}\")\n",
    "        print(f\"Protein Sequence: {protein_seq}\\n\")"
   ]
  },
  {
   "cell_type": "code",
   "execution_count": 5,
   "id": "afed25e7",
   "metadata": {},
   "outputs": [],
   "source": [
    "fasta_file = \"Example1.fasta\""
   ]
  },
  {
   "cell_type": "code",
   "execution_count": 7,
   "id": "0c7e3b49",
   "metadata": {},
   "outputs": [
    {
     "name": "stdout",
     "output_type": "stream",
     "text": [
      "ID: sequence1\n",
      "Protein Sequence: GPPNKIRRS\n",
      "\n",
      "ID: sequence2\n",
      "Protein Sequence: HLG*LLLQHF\n",
      "\n",
      "ID: sequence3\n",
      "Protein Sequence: VQVKALQLWVQVKSA*\n",
      "\n"
     ]
    }
   ],
   "source": [
    "if fasta_file:\n",
    "    parse_fasta_translate(fasta_file)\n",
    "else: \n",
    "    print(\"No data fetched\")"
   ]
  },
  {
   "cell_type": "markdown",
   "id": "22444a1b",
   "metadata": {},
   "source": [
    "**NOTE**: The asterisk * in the translated protein sequence represents a stop codon. "
   ]
  },
  {
   "cell_type": "markdown",
   "id": "fdef5080",
   "metadata": {},
   "source": [
    "### FETCH THE FASTA SEQUENCE FROM THE DATABASE AND THEN TRANSLATE TO PROTEIN SEQEUNCE"
   ]
  },
  {
   "cell_type": "code",
   "execution_count": 9,
   "id": "f6470d07",
   "metadata": {},
   "outputs": [],
   "source": [
    "from Bio import Entrez"
   ]
  },
  {
   "cell_type": "code",
   "execution_count": 19,
   "id": "365847e0",
   "metadata": {},
   "outputs": [],
   "source": [
    "from io import StringIO"
   ]
  },
  {
   "cell_type": "code",
   "execution_count": 20,
   "id": "a50f3774",
   "metadata": {},
   "outputs": [],
   "source": [
    "# Set email for NCBI Entrez\n",
    "Entrez.email = \"k26sangeetha@gmail.com\"  # Replace with your email"
   ]
  },
  {
   "cell_type": "code",
   "execution_count": 21,
   "id": "6a1db853",
   "metadata": {},
   "outputs": [],
   "source": [
    "# Function to fetch FASTA data from NCBI\n",
    "def fetch_fasta_from_ncbi(query, database=\"nucleotide\"):\n",
    "    handle = Entrez.esearch(db=database, term=query, retmax=1)\n",
    "    record = Entrez.read(handle)\n",
    "    handle.close()\n",
    "    if record[\"IdList\"]:\n",
    "        seq_id = record[\"IdList\"][0]\n",
    "        handle = Entrez.efetch(db=database, id=seq_id, rettype=\"fasta\", retmode=\"text\")\n",
    "        fasta_data = handle.read()\n",
    "        handle.close()\n",
    "        return fasta_data\n",
    "    else:\n",
    "        return None"
   ]
  },
  {
   "cell_type": "code",
   "execution_count": 22,
   "id": "51d5de4e",
   "metadata": {},
   "outputs": [
    {
     "name": "stdout",
     "output_type": "stream",
     "text": [
      ">PP914118.1 Taenia solium isolate B cytochrome c oxidase subunit I (COX1) gene, partial cds; mitochondrial\n",
      "TAGATTTTTTAATGTTTTCTTTACATTTAGCTGGTGTATCAAGTATTTTTAGTTCTATTAATTTTATATG\n",
      "TACATTATATAGAGTTTTTATGACTAATATATTTTCTCGTACATCTATAGTGTTATGATCTTATTTATTT\n",
      "ACATCTATCTTGTTATTGGTTACTTTACCTGTTTTGGCAGCCGCTGTTACTATGCTTCTATTTGATCGTA\n",
      "AATTTAGTTCTGCGTTTTTTGATCCGTTAGGAGGTGGTGATCCTGTTTTATTTCAACATATGTTTTGATT\n",
      "TTTTGGTCATCCTGAGGTTTATGTGTTAATTCTTCCGGGGTTTGGTATAATTAGTCATATATGTTTGAGT\n",
      "ATAAGTATGTGTTCTGATGCTTTTGGCTTTTATGGGTTATTGTTTGCTATGTTTTCAATAGTATGTTTAG\n",
      "GAAGAAGTGTATGAGGGCATCATATGTTTACGGTTGGGTTAGATGTTAAGACGGCTGTATTTTTTAGTTC\n",
      "TGTTACTATGATAATTGGAGTGCCTACGGGGATTAAGGTTTTTACTTGGCTTTATATGCTTTTAAAATCT\n",
      "CGTGTTAATAAGAGTGATCCGGTTTTATGATGAATAATTTCGTTTATAGTATTGTTTACATTTGGTGGTG\n",
      "TAACTGGTATTATTCTATCTGCTTGTGTATTAGATAAAGTTCTTCATGATACTTGGTTTGTTGTTGCTCA\n",
      "TTTTCATT\n",
      "\n",
      "\n"
     ]
    }
   ],
   "source": [
    "query = \"Homo sapiens COX1\"\n",
    "fasta_data = fetch_fasta_from_ncbi(query)\n",
    "print(fasta_data)"
   ]
  },
  {
   "cell_type": "code",
   "execution_count": 23,
   "id": "01131c58",
   "metadata": {},
   "outputs": [],
   "source": [
    "#Function to parse the fasta data and translate into into protein by passing translate_dna_to_protein function\n",
    "def parse_fasta_fromdb_translate(fasta_string):\n",
    "    fasta_io = StringIO(fasta_string)\n",
    "    for record in SeqIO.parse(fasta_io, \"fasta\"):\n",
    "        protein_seq = translate_dna_to_protein(record.seq)\n",
    "        print(f\"ID: {record.id}\")\n",
    "        print(f\"Protein Sequence: {protein_seq}\\n\")"
   ]
  },
  {
   "cell_type": "code",
   "execution_count": 24,
   "id": "828ae296",
   "metadata": {},
   "outputs": [
    {
     "name": "stdout",
     "output_type": "stream",
     "text": [
      "ID: PP914118.1\n",
      "Protein Sequence: *IF*CFLYI*LVYQVFLVLLILYVHYIEFL*LIYFLVHL*CYDLIYLHLSCYWLLYLFWQPLLLCFYLIVNLVLRFLIR*EVVILFYFNICFDFLVILRFMC*FFRGLV*LVIYV*V*VCVLMLLAFMGYCLLCFQ*YV*EEVYEGIICLRLG*MLRRLYFLVLLL**LECLRGLRFLLGFICF*NLVLIRVIRFYDE*FRL*YCLHLVV*LVLFYLLVY*IKFFMILGLLLLIFI\n",
      "\n"
     ]
    }
   ],
   "source": [
    "# Example usage\n",
    "if fasta_data:\n",
    "    parse_fasta_fromdb_translate(fasta_data)\n",
    "else:\n",
    "    print(\"No data fetched.\")"
   ]
  }
 ],
 "metadata": {
  "kernelspec": {
   "display_name": "Python 3 (ipykernel)",
   "language": "python",
   "name": "python3"
  },
  "language_info": {
   "codemirror_mode": {
    "name": "ipython",
    "version": 3
   },
   "file_extension": ".py",
   "mimetype": "text/x-python",
   "name": "python",
   "nbconvert_exporter": "python",
   "pygments_lexer": "ipython3",
   "version": "3.10.9"
  }
 },
 "nbformat": 4,
 "nbformat_minor": 5
}
