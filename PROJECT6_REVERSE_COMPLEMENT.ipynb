{
 "cells": [
  {
   "cell_type": "markdown",
   "id": "120bd32d",
   "metadata": {},
   "source": [
    "### Generating the Reverse Complement of DNA Seqeunces"
   ]
  },
  {
   "cell_type": "markdown",
   "id": "58b494fa",
   "metadata": {},
   "source": [
    "**Steps to Generate Reverse Complement**\n",
    "1. Define a Function to Generate Reverse Complement\n",
    "2. Parse the FASTA File and Use the Function\n",
    "3. Print the Results"
   ]
  },
  {
   "cell_type": "markdown",
   "id": "f38ea10f",
   "metadata": {},
   "source": [
    "### Step 1: Define a Function to Generate Reverse Complement"
   ]
  },
  {
   "cell_type": "markdown",
   "id": "eb497d81",
   "metadata": {},
   "source": [
    "We'll create a function that takes a DNA sequence as input and returns the reverse complement"
   ]
  },
  {
   "cell_type": "code",
   "execution_count": 1,
   "id": "603cdcef",
   "metadata": {},
   "outputs": [],
   "source": [
    "from Bio.Seq import Seq"
   ]
  },
  {
   "cell_type": "code",
   "execution_count": 7,
   "id": "7544aa6e",
   "metadata": {},
   "outputs": [],
   "source": [
    "from Bio import SeqIO"
   ]
  },
  {
   "cell_type": "markdown",
   "id": "777c959d",
   "metadata": {},
   "source": [
    "**Seq(sequence):** Converts the string of DNA sequence into a Biopython Seq object\n",
    "\n",
    "**dna_seq.reverse_complement():** Generates the reverse complement of the DNA sequence"
   ]
  },
  {
   "cell_type": "code",
   "execution_count": 2,
   "id": "644773f9",
   "metadata": {},
   "outputs": [],
   "source": [
    "# Function to get the reverse complement of a DNA sequence\n",
    "def reverse_complement(sequence):\n",
    "    dna_seq = Seq(sequence)\n",
    "    return dna_seq.reverse_complement()"
   ]
  },
  {
   "cell_type": "code",
   "execution_count": 3,
   "id": "ce870122",
   "metadata": {},
   "outputs": [],
   "source": [
    "# Function to parse a FASTA file and get reverse complements\n",
    "def parse_fasta_reverse_complement(file_path):\n",
    "    for record in SeqIO.parse(file_path, \"fasta\"):\n",
    "        rev_comp = reverse_complement(record.seq)\n",
    "        print(f\"ID: {record.id}\")\n",
    "        print(f\"Reverse Complement: {rev_comp}\\n\")"
   ]
  },
  {
   "cell_type": "code",
   "execution_count": 5,
   "id": "c31753a1",
   "metadata": {},
   "outputs": [],
   "source": [
    "fasta_file = \"Example1.fasta\""
   ]
  },
  {
   "cell_type": "code",
   "execution_count": 8,
   "id": "6fb6188b",
   "metadata": {},
   "outputs": [
    {
     "name": "stdout",
     "output_type": "stream",
     "text": [
      "ID: sequence1\n",
      "Reverse Complement: gGACCGCCTGATTTTGTTTGGTGGGCC\n",
      "\n",
      "ID: sequence2\n",
      "Reverse Complement: AAAGTGTTGCAACAGTAGCTACCCTAAATG\n",
      "\n",
      "ID: sequence3\n",
      "Reverse Complement: CTATGCCGATTTGACTTGAACCCACAGTTGCAAAGCTTTGACTTGAAC\n",
      "\n"
     ]
    }
   ],
   "source": [
    "if fasta_file:\n",
    "    parse_fasta_reverse_complement(fasta_file)\n",
    "else: \n",
    "    print(\"No data fetched\")"
   ]
  }
 ],
 "metadata": {
  "kernelspec": {
   "display_name": "Python 3 (ipykernel)",
   "language": "python",
   "name": "python3"
  },
  "language_info": {
   "codemirror_mode": {
    "name": "ipython",
    "version": 3
   },
   "file_extension": ".py",
   "mimetype": "text/x-python",
   "name": "python",
   "nbconvert_exporter": "python",
   "pygments_lexer": "ipython3",
   "version": "3.10.9"
  }
 },
 "nbformat": 4,
 "nbformat_minor": 5
}
