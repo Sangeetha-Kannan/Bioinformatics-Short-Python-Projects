{
 "cells": [
  {
   "cell_type": "markdown",
   "id": "9620273d",
   "metadata": {},
   "source": [
    "# PROJECT 3: UNDERSTANDING NUCLEOTIDE FREQUENCY ANALYSIS"
   ]
  },
  {
   "cell_type": "markdown",
   "id": "ed871153",
   "metadata": {},
   "source": [
    "Let's start by understanding Nucleotide Frequency Analysis"
   ]
  },
  {
   "cell_type": "markdown",
   "id": "6c862c39",
   "metadata": {},
   "source": [
    "**What is Nucleotide Frequency Analysis?**"
   ]
  },
  {
   "cell_type": "markdown",
   "id": "3a4ebf8d",
   "metadata": {},
   "source": [
    "Nucleotide frequency analysis involves **counting the occurrences of each nucleotide (A, T, G, C) in a DNA sequence**. \n",
    "\n",
    "This analysis helps understand the composition of a DNA sequence, which can be useful for various applications, such as identifying species, studying genomic features, and designing primers for PCR."
   ]
  },
  {
   "cell_type": "markdown",
   "id": "586265b0",
   "metadata": {},
   "source": [
    "**Steps to Perform Nucleotide Frequency Analysis**\n",
    "\n",
    "1. Define a Function to Calculate Nucleotide Frequency\n",
    "2. Parse the FASTA File and Use the Function\n",
    "3. Print the Results"
   ]
  },
  {
   "cell_type": "markdown",
   "id": "6644eb32",
   "metadata": {},
   "source": [
    "### Step 1: Import Libraries "
   ]
  },
  {
   "cell_type": "code",
   "execution_count": 1,
   "id": "d37415bd",
   "metadata": {},
   "outputs": [],
   "source": [
    "import Bio"
   ]
  },
  {
   "cell_type": "code",
   "execution_count": 2,
   "id": "9f7593b3",
   "metadata": {},
   "outputs": [],
   "source": [
    "# Importing necessary modules from Biopython\n",
    "from Bio import SeqIO\n",
    "from Bio import Entrez"
   ]
  },
  {
   "cell_type": "markdown",
   "id": "e8e8f2f4",
   "metadata": {},
   "source": [
    "### Step 3: Define a Function to Calculate Nucleotide Frequency"
   ]
  },
  {
   "cell_type": "markdown",
   "id": "79e0390a",
   "metadata": {},
   "source": [
    "Here, we'll create a function that takes a DNA sequence as input and return a dictionary with the counts of each nucleotide"
   ]
  },
  {
   "cell_type": "code",
   "execution_count": 3,
   "id": "7252cc17",
   "metadata": {},
   "outputs": [],
   "source": [
    "# Function to calculate nucleotide frequency\n",
    "def calculate_nucleotide_frequency(sequence):\n",
    "    freq = {\n",
    "        \"A\": sequence.count(\"A\"),\n",
    "        \"T\": sequence.count(\"T\"),\n",
    "        \"G\": sequence.count(\"G\"),\n",
    "        \"C\": sequence.count(\"C\")\n",
    "    }\n",
    "    return freq"
   ]
  },
  {
   "cell_type": "markdown",
   "id": "fb0a8dc8",
   "metadata": {},
   "source": [
    "### Step 4: Parse the FASTA File and Use the Function"
   ]
  },
  {
   "cell_type": "code",
   "execution_count": 4,
   "id": "0b1457cc",
   "metadata": {},
   "outputs": [],
   "source": [
    "# Function to parse a FASTA file and calculate nucleotide frequency\n",
    "def parse_fasta_nucleotide_frequency(file_path):\n",
    "    for record in SeqIO.parse(file_path, \"fasta\"):\n",
    "        freq = calculate_nucleotide_frequency(record.seq)\n",
    "        print(f\"ID: {record.id}\")\n",
    "        print(f\"Nucleotide Frequency: {freq}\\n\")"
   ]
  },
  {
   "cell_type": "code",
   "execution_count": 5,
   "id": "ce9d7eaa",
   "metadata": {},
   "outputs": [],
   "source": [
    "fasta_file = \"Example1.fasta\""
   ]
  },
  {
   "cell_type": "code",
   "execution_count": 6,
   "id": "7fd64d63",
   "metadata": {},
   "outputs": [
    {
     "name": "stdout",
     "output_type": "stream",
     "text": [
      "ID: sequence1\n",
      "Nucleotide Frequency: {'A': 9, 'T': 2, 'G': 6, 'C': 9}\n",
      "\n",
      "ID: sequence2\n",
      "Nucleotide Frequency: {'A': 7, 'T': 11, 'G': 6, 'C': 7}\n",
      "\n",
      "ID: sequence3\n",
      "Nucleotide Frequency: {'A': 14, 'T': 13, 'G': 11, 'C': 9}\n",
      "\n"
     ]
    }
   ],
   "source": [
    "if fasta_file:\n",
    "    parse_fasta_nucleotide_frequency(fasta_file)\n",
    "else: \n",
    "    print(\"No data fetched\")"
   ]
  },
  {
   "cell_type": "markdown",
   "id": "d123b858",
   "metadata": {},
   "source": [
    "# Calculate Nucleotide Composition Percentage"
   ]
  },
  {
   "cell_type": "code",
   "execution_count": 7,
   "id": "252ff22b",
   "metadata": {},
   "outputs": [],
   "source": [
    "def calculate_nucleotide_composition(sequence):\n",
    "    total_length = len(sequence)\n",
    "    freq = {\n",
    "        \"A\": round((sequence.count(\"A\") / total_length) * 100,2),\n",
    "        \"T\": round((sequence.count(\"T\") / total_length) * 100,2),\n",
    "        \"G\": round((sequence.count(\"G\") / total_length) * 100,2),\n",
    "        \"C\": round((sequence.count(\"C\") / total_length) * 100,2)\n",
    "    }\n",
    "    return freq"
   ]
  },
  {
   "cell_type": "code",
   "execution_count": 8,
   "id": "2ce57ce8",
   "metadata": {},
   "outputs": [],
   "source": [
    "def parse_fasta_nucleotide_composition(file_path):\n",
    "    for record in SeqIO.parse(file_path, \"fasta\"):\n",
    "        comp = calculate_nucleotide_composition(record.seq)\n",
    "        print(f\"ID: {record.id}\")\n",
    "        print(f\"Nucleotide Composition (%): {comp}\\n\")"
   ]
  },
  {
   "cell_type": "code",
   "execution_count": 9,
   "id": "9cdb5e69",
   "metadata": {},
   "outputs": [
    {
     "name": "stdout",
     "output_type": "stream",
     "text": [
      "ID: sequence1\n",
      "Nucleotide Composition (%): {'A': 34.62, 'T': 7.69, 'G': 23.08, 'C': 34.62}\n",
      "\n",
      "ID: sequence2\n",
      "Nucleotide Composition (%): {'A': 22.58, 'T': 35.48, 'G': 19.35, 'C': 22.58}\n",
      "\n",
      "ID: sequence3\n",
      "Nucleotide Composition (%): {'A': 29.79, 'T': 27.66, 'G': 23.4, 'C': 19.15}\n",
      "\n"
     ]
    }
   ],
   "source": [
    "if fasta_file:\n",
    "    parse_fasta_nucleotide_composition(fasta_file)\n",
    "else: \n",
    "    print(\"No data fetched\")"
   ]
  },
  {
   "cell_type": "markdown",
   "id": "73fb9fd2",
   "metadata": {},
   "source": [
    "# Visualization of Nucleotide Distribution "
   ]
  },
  {
   "cell_type": "markdown",
   "id": "11acde30",
   "metadata": {},
   "source": [
    "To visualize the nucleotide distribution, we can use a bar plot. We'll use the matplotlib library to create a bar plot for the nucleotide composition."
   ]
  },
  {
   "cell_type": "markdown",
   "id": "8a6cb487",
   "metadata": {},
   "source": [
    "**Step-by-Step Implementation for Visualization**\n",
    "1. Install and Import Matplotlib\n",
    "2. Create a Function to Plot Nucleotide Composition\n",
    "3. Integrate the Plotting Function with FASTA Parsing"
   ]
  },
  {
   "cell_type": "markdown",
   "id": "e77ce21c",
   "metadata": {},
   "source": [
    "### Step 1: Install and Import Matplotlib"
   ]
  },
  {
   "cell_type": "code",
   "execution_count": 10,
   "id": "bb0d98a2",
   "metadata": {},
   "outputs": [
    {
     "name": "stdout",
     "output_type": "stream",
     "text": [
      "Requirement already satisfied: matplotlib in c:\\users\\sangeetha\\anaconda3\\lib\\site-packages (3.7.0)\n",
      "Requirement already satisfied: numpy>=1.20 in c:\\users\\sangeetha\\anaconda3\\lib\\site-packages (from matplotlib) (1.23.5)\n",
      "Requirement already satisfied: kiwisolver>=1.0.1 in c:\\users\\sangeetha\\anaconda3\\lib\\site-packages (from matplotlib) (1.4.4)\n",
      "Requirement already satisfied: python-dateutil>=2.7 in c:\\users\\sangeetha\\anaconda3\\lib\\site-packages (from matplotlib) (2.8.2)\n",
      "Requirement already satisfied: fonttools>=4.22.0 in c:\\users\\sangeetha\\anaconda3\\lib\\site-packages (from matplotlib) (4.25.0)\n",
      "Requirement already satisfied: packaging>=20.0 in c:\\users\\sangeetha\\anaconda3\\lib\\site-packages (from matplotlib) (22.0)\n",
      "Requirement already satisfied: pyparsing>=2.3.1 in c:\\users\\sangeetha\\anaconda3\\lib\\site-packages (from matplotlib) (3.0.9)\n",
      "Requirement already satisfied: cycler>=0.10 in c:\\users\\sangeetha\\anaconda3\\lib\\site-packages (from matplotlib) (0.11.0)\n",
      "Requirement already satisfied: pillow>=6.2.0 in c:\\users\\sangeetha\\anaconda3\\lib\\site-packages (from matplotlib) (9.4.0)\n",
      "Requirement already satisfied: contourpy>=1.0.1 in c:\\users\\sangeetha\\anaconda3\\lib\\site-packages (from matplotlib) (1.0.5)\n",
      "Requirement already satisfied: six>=1.5 in c:\\users\\sangeetha\\anaconda3\\lib\\site-packages (from python-dateutil>=2.7->matplotlib) (1.16.0)\n"
     ]
    }
   ],
   "source": [
    "!pip install matplotlib"
   ]
  },
  {
   "cell_type": "code",
   "execution_count": 15,
   "id": "51a2454c",
   "metadata": {},
   "outputs": [],
   "source": [
    "import matplotlib.pyplot as plt\n",
    "import numpy as np"
   ]
  },
  {
   "cell_type": "markdown",
   "id": "aa18bee8",
   "metadata": {},
   "source": [
    "#### Calculate Nucleotide Composition Percentage Function"
   ]
  },
  {
   "cell_type": "code",
   "execution_count": 25,
   "id": "621df0e5",
   "metadata": {},
   "outputs": [],
   "source": [
    "## Already mentioned above as well\n",
    "def calculate_nucleotide_composition(sequence):\n",
    "    total_length = len(sequence)\n",
    "    freq = {\n",
    "        \"A\": round((sequence.count(\"A\") / total_length) * 100, 2),\n",
    "        \"T\": round((sequence.count(\"T\") / total_length) * 100, 2),\n",
    "        \"G\": round((sequence.count(\"G\") / total_length) * 100, 2),\n",
    "        \"C\": round((sequence.count(\"C\") / total_length) * 100, 2)\n",
    "    }\n",
    "    return freq"
   ]
  },
  {
   "cell_type": "markdown",
   "id": "186354cc",
   "metadata": {},
   "source": [
    "#### Plot Nucleotide Composition"
   ]
  },
  {
   "cell_type": "code",
   "execution_count": 22,
   "id": "f38e9238",
   "metadata": {},
   "outputs": [],
   "source": [
    "# Function to plot nucleotide composition\n",
    "def plot_nucleotide_composition(comp, seq_id):\n",
    "    nucleotides = list(comp.keys())\n",
    "    frequencies = list(comp.values())\n",
    "    \n",
    "    # Create gradient colors\n",
    "    base_color = np.array([0, 0, 1])  # Blue color in RGB\n",
    "    gradient_colors = [base_color * (1 - i * 0.2) for i in range(len(nucleotides))]\n",
    "    \n",
    "    plt.figure(figsize=(5, 3))\n",
    "    plt.bar(nucleotides, frequencies, color=gradient_colors)\n",
    "    plt.xlabel('Nucleotide')\n",
    "    plt.ylabel('Composition (%)')\n",
    "    plt.title(f'Nucleotide Composition for {seq_id}')\n",
    "    plt.show()"
   ]
  },
  {
   "cell_type": "markdown",
   "id": "09f370d7",
   "metadata": {},
   "source": [
    "#### Parse FASTA File and Plot for Sequence1"
   ]
  },
  {
   "cell_type": "code",
   "execution_count": 23,
   "id": "8749e83c",
   "metadata": {},
   "outputs": [],
   "source": [
    "def parse_fasta_nucleotide_composition_to_plot(file_path):\n",
    "    for record in SeqIO.parse(file_path, \"fasta\"):\n",
    "        comp = calculate_nucleotide_composition(record.seq)\n",
    "        print(f\"ID: {record.id}\")\n",
    "        print(f\"Nucleotide Composition (%): {comp}\\n\")\n",
    "        plot_nucleotide_composition(comp, record.id)\n",
    "        break  # Only process the first sequence"
   ]
  },
  {
   "cell_type": "code",
   "execution_count": 24,
   "id": "728bf917",
   "metadata": {},
   "outputs": [
    {
     "name": "stdout",
     "output_type": "stream",
     "text": [
      "ID: sequence1\n",
      "Nucleotide Composition (%): {'A': 34.62, 'T': 7.69, 'G': 23.08, 'C': 34.62}\n",
      "\n"
     ]
    },
    {
     "data": {
      "image/png": "[encoded data removed]",
      "text/plain": [
       "<Figure size 500x300 with 1 Axes>"
      ]
     },
     "metadata": {},
     "output_type": "display_data"
    }
   ],
   "source": [
    "if fasta_file:\n",
    "    parse_fasta_nucleotide_composition_to_plot(fasta_file)\n",
    "else: \n",
    "    print(\"No data fetched\")"
   ]
  }
 ],
 "metadata": {
  "kernelspec": {
   "display_name": "Python 3 (ipykernel)",
   "language": "python",
   "name": "python3"
  },
  "language_info": {
   "codemirror_mode": {
    "name": "ipython",
    "version": 3
   },
   "file_extension": ".py",
   "mimetype": "text/x-python",
   "name": "python",
   "nbconvert_exporter": "python",
   "pygments_lexer": "ipython3",
   "version": "3.10.9"
  }
 },
 "nbformat": 4,
 "nbformat_minor": 5
}
